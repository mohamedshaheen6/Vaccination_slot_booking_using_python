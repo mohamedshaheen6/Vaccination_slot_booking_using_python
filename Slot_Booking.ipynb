{
 "cells": [
  {
   "cell_type": "code",
   "execution_count": 2,
   "id": "bd7f606d",
   "metadata": {},
   "outputs": [
    {
     "name": "stdout",
     "output_type": "stream",
     "text": [
      "select the place for vaccination\n",
      "{'1': 'kochi', '2': 'thrissur', '3': 'palakad'}\n",
      "select the place using keys:1\n"
     ]
    }
   ],
   "source": [
    "def place():\n",
    "    global y\n",
    "    global x\n",
    "    place_avl={\n",
    "        '1':'kochi',\n",
    "        '2':'thrissur',\n",
    "        '3':'palakad'\n",
    "    }\n",
    "    print(\"select the place for vaccination\")\n",
    "    print(place_avl)\n",
    "    x=input(\"select the place using keys:\")\n",
    "    while int(x)>3:\n",
    "        print(\"enter valid key\")\n",
    "        break\n",
    "    else:\n",
    "        y=place_avl[x]\n",
    "place()    "
   ]
  },
  {
   "cell_type": "code",
   "execution_count": 3,
   "id": "68bc7793",
   "metadata": {},
   "outputs": [
    {
     "name": "stdout",
     "output_type": "stream",
     "text": [
      "{'1': 'morning', '2': 'evening'}\n",
      "select the preferd time using key:2\n"
     ]
    }
   ],
   "source": [
    "def time():\n",
    "    global t_b\n",
    "    global t\n",
    "    time_slot={\n",
    "        '1':'morning',\n",
    "        '2':'evening'\n",
    "    }\n",
    "    print(time_slot)\n",
    "    t=input(\"select the preferd time using key:\")\n",
    "    if int(t)>2:\n",
    "        print(\"enter a valid key\")\n",
    "    else:\n",
    "        t_b=time_slot[t]\n",
    "time()     "
   ]
  },
  {
   "cell_type": "code",
   "execution_count": 4,
   "id": "fb8b2edc",
   "metadata": {},
   "outputs": [
    {
     "name": "stdout",
     "output_type": "stream",
     "text": [
      "Enter amount of slots you need to book:4\n",
      "4 slot booking successfully completed at kochi for evening\n",
      "16 slots left\n"
     ]
    }
   ],
   "source": [
    "def slot_check():  \n",
    "    slot_avl=20\n",
    "    slot_booking=int(input(\"Enter amount of slots you need to book:\"))\n",
    "    if slot_avl>=slot_booking:\n",
    "        slot_left=slot_avl-slot_booking\n",
    "        print(slot_booking,\"slot booking successfully completed at\",y,\"for\",t_b)\n",
    "        print(slot_left,\"slots left\")\n",
    "    elif slot_avl<slot_booking:\n",
    "        print(\"sorry only 20 slot available\")\n",
    "slot_check()   "
   ]
  },
  {
   "cell_type": "code",
   "execution_count": 8,
   "id": "9ce7b597",
   "metadata": {},
   "outputs": [
    {
     "name": "stdout",
     "output_type": "stream",
     "text": [
      "select the place for vaccination\n",
      "{'1': 'kochi', '2': 'thrissur', '3': 'palakad'}\n",
      "select the place using keys:2\n",
      "{'1': 'morning', '2': 'evening'}\n",
      "select the preferd time using key:1\n",
      "Enter amount of slots you need to book:13\n",
      "13 slot booking successfully completed at thrissur for morning\n",
      "7 slots left\n"
     ]
    }
   ],
   "source": [
    "def working():\n",
    "    place()\n",
    "    while int(x)>3:\n",
    "        break\n",
    "    else:\n",
    "        time()    \n",
    "        while int(t)>2:\n",
    "            break\n",
    "        else:\n",
    "            slot_check()\n",
    "working() "
   ]
  },
  {
   "cell_type": "code",
   "execution_count": null,
   "id": "e3c39252",
   "metadata": {},
   "outputs": [],
   "source": []
  }
 ],
 "metadata": {
  "kernelspec": {
   "display_name": "Python 3 (ipykernel)",
   "language": "python",
   "name": "python3"
  },
  "language_info": {
   "codemirror_mode": {
    "name": "ipython",
    "version": 3
   },
   "file_extension": ".py",
   "mimetype": "text/x-python",
   "name": "python",
   "nbconvert_exporter": "python",
   "pygments_lexer": "ipython3",
   "version": "3.9.12"
  }
 },
 "nbformat": 4,
 "nbformat_minor": 5
}
